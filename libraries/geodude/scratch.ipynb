version https://git-lfs.github.com/spec/v1
oid sha256:0d3ea6492a38a77e701d6875b5e741b32db6112bc6d9b1e4e89f8dfbee3fbcad
size 8222
