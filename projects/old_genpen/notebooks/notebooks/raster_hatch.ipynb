{
 "cells": [
  {
   "cell_type": "code",
   "execution_count": null,
   "metadata": {
    "heading_collapsed": "false",
    "tags": []
   },
   "outputs": [],
   "source": [
    "import itertools\n",
    "import numpy as np\n",
    "import os\n",
    "import seaborn as sns\n",
    "from tqdm import tqdm\n",
    "from dataclasses import asdict, dataclass, field\n",
    "import vsketch\n",
    "import shapely.geometry as sg\n",
    "from shapely.geometry import box, MultiLineString, Point, MultiPoint, Polygon, MultiPolygon, LineString\n",
    "import shapely.affinity as sa\n",
    "import shapely.ops as so\n",
    "import matplotlib.pyplot as plt\n",
    "import pandas as pd\n",
    "\n",
    "import vpype_cli\n",
    "from typing import List, Generic\n",
    "from genpen import genpen as gp\n",
    "from genpen.utils import Paper\n",
    "from scipy import stats as ss\n",
    "import geopandas\n",
    "from shapely.errors import TopologicalError\n",
    "import functools\n",
    "import vpype\n",
    "from skimage import io\n",
    "from pathlib import Path\n",
    "\n",
    "from sklearn.preprocessing import minmax_scale\n",
    "from skimage import feature\n",
    "from skimage import exposure\n",
    "\n",
    "from skimage import filters\n",
    "from skimage.color import rgb2gray\n",
    "from skimage.transform import rescale, resize, downscale_local_mean\n",
    "from skimage.morphology import disk"
   ]
  },
  {
   "cell_type": "code",
   "execution_count": null,
   "metadata": {
    "heading_collapsed": "false"
   },
   "outputs": [],
   "source": [
    "def local_angle(dx, dy):\n",
    "    \"\"\"Calculate the angles between horizontal and vertical operators.\"\"\"\n",
    "    return np.mod(np.arctan2(dy, dx), np.pi)"
   ]
  },
  {
   "cell_type": "code",
   "execution_count": null,
   "metadata": {
    "heading_collapsed": "false"
   },
   "outputs": [],
   "source": [
    "image_path= '/home/naka/art/raster_images/blood_red_sunset.png'\n",
    "paper_size:str = '14x11 inches'\n",
    "border:float=25  # mm\n",
    "image_rescale_factor:float=0.3\n",
    "smooth_disk_size:int=2\n",
    "hist_clip_limit=0.1\n",
    "hist_nbins=22\n",
    "intensity_min=0.05\n",
    "intensity_max=1.\n",
    "hatch_spacing_min=0.3  # mm\n",
    "hatch_spacing_max=1.2  # mm\n",
    "pixel_width=1  # mm\n",
    "pixel_height=1  # mm\n",
    "angle_jitter='ss.norm(scale=8).rvs'  # degrees\n",
    "# angle_jitter='0'\n",
    "pixel_rotation='0'  # degrees\n",
    "merge_tolerances=[0.1, 0.2, 0.3]  # mm\n",
    "simplify_tolerances=[0.05, 0.1, ]  # mm\n",
    "savedir='/home/naka/art/plotter_svgs'"
   ]
  },
  {
   "cell_type": "code",
   "execution_count": null,
   "metadata": {
    "heading_collapsed": "false"
   },
   "outputs": [],
   "source": [
    "# make page\n",
    "paper = Paper(paper_size)\n",
    "drawbox = paper.get_drawbox(border)\n",
    "\n",
    "# load\n",
    "img =  rgb2gray(io.imread(Path(image_path)))\n",
    "img_rescale = np.clip(rescale(img, image_rescale_factor), 0, 1)\n",
    "\n",
    "img_renorm = exposure.equalize_adapthist(img_rescale, clip_limit=hist_clip_limit, nbins=hist_nbins)\n",
    "# img_renorm = img_rescale"
   ]
  },
  {
   "cell_type": "code",
   "execution_count": null,
   "metadata": {},
   "outputs": [],
   "source": [
    "plt.imshow(img_renorm)"
   ]
  },
  {
   "cell_type": "code",
   "execution_count": null,
   "metadata": {
    "heading_collapsed": "false"
   },
   "outputs": [],
   "source": [
    "# calc dominant angle\n",
    "selem = disk(smooth_disk_size)\n",
    "filt_img = filters.rank.mean(img_renorm, selem)\n",
    "angle_farid = local_angle(filters.farid_h(filt_img), filters.farid_v(filt_img))\n",
    "\n",
    "# make pixel polys\n",
    "prms = []\n",
    "for y, row in tqdm(enumerate(img_renorm)):\n",
    "    for x, intensity in enumerate(row):\n",
    "\n",
    "        p = gp.centered_box(Point(x, y), width=pixel_width, height=pixel_height)\n",
    "        a = np.degrees(angle_farid[y, x])\n",
    "        prm = {\n",
    "            'geometry':p,\n",
    "            'x':x,\n",
    "            'y':y,\n",
    "            'raw_pixel_width':pixel_width,\n",
    "            'raw_pixel_height':pixel_height,\n",
    "            'intensity': intensity,\n",
    "            'angle':a,\n",
    "            'group': 'raw_hatch_pixel',\n",
    "\n",
    "        }\n",
    "        prms.append(prm)\n",
    "raw_hatch_pixels = geopandas.GeoDataFrame(prms)"
   ]
  },
  {
   "cell_type": "code",
   "execution_count": null,
   "metadata": {
    "heading_collapsed": "false"
   },
   "outputs": [],
   "source": [
    "#  rescale polys to fit in drawbox\n",
    "bbox = box(*raw_hatch_pixels.total_bounds)\n",
    "_, transform = gp.make_like(bbox, drawbox, return_transform=True)\n",
    "A = gp.AffineMatrix(**transform)\n",
    "scaled_hatch_pixels = raw_hatch_pixels.copy()\n",
    "scaled_hatch_pixels['geometry'] = scaled_hatch_pixels.affine_transform(A.A_flat)"
   ]
  },
  {
   "cell_type": "code",
   "execution_count": null,
   "metadata": {
    "heading_collapsed": "false"
   },
   "outputs": [],
   "source": [
    "example_height = gp.get_height(scaled_hatch_pixels.loc[0, 'geometry'])\n",
    "example_width = gp.get_width(scaled_hatch_pixels.loc[0, 'geometry'])\n",
    "print(f'pixel size = {example_width:.2}x{example_height:.2}mm')\n",
    "scaled_hatch_pixels['scaled_pixel_height'] = example_height\n",
    "scaled_hatch_pixels['scaled_pixel_width'] = example_width"
   ]
  },
  {
   "cell_type": "code",
   "execution_count": null,
   "metadata": {
    "heading_collapsed": "false"
   },
   "outputs": [],
   "source": [
    "scaled_hatch_pixels['scaled_pixel_min_dim'] = scaled_hatch_pixels.loc[:, ['scaled_pixel_height', 'scaled_pixel_width']].min(axis=1)"
   ]
  },
  {
   "cell_type": "code",
   "execution_count": null,
   "metadata": {
    "heading_collapsed": "false"
   },
   "outputs": [],
   "source": [
    "# distributions etc\n",
    "angle_jitter_gen = gp.make_callable(eval(angle_jitter))\n",
    "pixel_rotation_gen = gp.make_callable(eval(pixel_rotation))\n",
    "\n",
    "\n",
    "scaled_hatch_pixels['angle_jitter'] = angle_jitter_gen(len(scaled_hatch_pixels))\n",
    "scaled_hatch_pixels['hatch_angle'] = scaled_hatch_pixels['angle'] + scaled_hatch_pixels['angle_jitter']\n",
    "scaled_hatch_pixels['pixel_rotation'] = pixel_rotation_gen(len(scaled_hatch_pixels))"
   ]
  },
  {
   "cell_type": "code",
   "execution_count": null,
   "metadata": {
    "heading_collapsed": "false"
   },
   "outputs": [],
   "source": [
    "intensity_min = 0.\n",
    "intensity_max = 1"
   ]
  },
  {
   "cell_type": "code",
   "execution_count": null,
   "metadata": {
    "heading_collapsed": "false"
   },
   "outputs": [],
   "source": [
    "hatch_spacing_min = 0.2"
   ]
  },
  {
   "cell_type": "code",
   "execution_count": null,
   "metadata": {
    "heading_collapsed": "false"
   },
   "outputs": [],
   "source": [
    "hatch_spacing_max = 0.75"
   ]
  },
  {
   "cell_type": "code",
   "execution_count": null,
   "metadata": {
    "heading_collapsed": "false"
   },
   "outputs": [],
   "source": [
    "spacing_func = functools.partial(np.interp, xp=[intensity_min, intensity_max], fp=[hatch_spacing_max, hatch_spacing_min, ])\n",
    "scaled_hatch_pixels['spacing'] = spacing_func(1 - scaled_hatch_pixels['intensity'])"
   ]
  },
  {
   "cell_type": "code",
   "execution_count": null,
   "metadata": {
    "heading_collapsed": "false"
   },
   "outputs": [],
   "source": [
    "filt_scaled_hatch_pixels = scaled_hatch_pixels.query('spacing < scaled_pixel_min_dim')"
   ]
  },
  {
   "cell_type": "code",
   "execution_count": null,
   "metadata": {
    "heading_collapsed": "false"
   },
   "outputs": [],
   "source": [
    "new_rows = []\n",
    "for i, row in tqdm(filt_scaled_hatch_pixels.iterrows(), total=len(filt_scaled_hatch_pixels)):\n",
    "    r = row.copy()\n",
    "    p = r['geometry']\n",
    "    if abs(r['pixel_rotation']) > np.finfo(float).eps:\n",
    "        p = sa.rotate(p, r['pixel_rotation'])\n",
    "    f = gp.hatchbox(p, spacing=r['spacing'], angle=r['hatch_angle'])\n",
    "    r['geometry'] = f\n",
    "    new_rows.append(r)\n",
    "\n",
    "fills = geopandas.GeoDataFrame(new_rows)\n",
    "fills = fills[fills.length > 0]\n",
    "fill_layer = gp.merge_LineStrings(fills.geometry)"
   ]
  },
  {
   "cell_type": "code",
   "execution_count": null,
   "metadata": {
    "heading_collapsed": "false"
   },
   "outputs": [],
   "source": [
    "sk = vsketch.Vsketch()\n",
    "sk.size(paper.page_format_mm)\n",
    "sk.scale('1mm')\n",
    "sk.stroke(1)\n",
    "sk.geometry(fill_layer)\n",
    "sk.display()"
   ]
  },
  {
   "cell_type": "code",
   "execution_count": null,
   "metadata": {
    "heading_collapsed": "false"
   },
   "outputs": [],
   "source": [
    "merge_tolerances=[0.05, 0.1, 0.2, 0.3, 0.4, 0.5,] # mm\n",
    "# simplify_tolerances=[0.05, 0.1,] # mm"
   ]
  },
  {
   "cell_type": "code",
   "execution_count": null,
   "metadata": {},
   "outputs": [],
   "source": [
    "for tolerance in merge_tolerances:\n",
    "    sk.vpype(f'linemerge --tolerance {tolerance}mm')\n",
    "\n",
    "for tolerance in simplify_tolerances:\n",
    "    sk.vpype(f'linesimplify --tolerance {tolerance}mm')\n",
    "sk.display()"
   ]
  },
  {
   "cell_type": "code",
   "execution_count": null,
   "metadata": {
    "heading_collapsed": "false"
   },
   "outputs": [],
   "source": [
    "sk.vpype('linesort')"
   ]
  },
  {
   "cell_type": "code",
   "execution_count": null,
   "metadata": {
    "heading_collapsed": "false"
   },
   "outputs": [],
   "source": [
    "import fn"
   ]
  },
  {
   "cell_type": "code",
   "execution_count": null,
   "metadata": {},
   "outputs": [],
   "source": [
    "plot_id = fn.new_plot_id()"
   ]
  },
  {
   "cell_type": "code",
   "execution_count": null,
   "metadata": {},
   "outputs": [],
   "source": [
    "savedir='/home/naka/art/plotter_svgs'"
   ]
  },
  {
   "cell_type": "code",
   "execution_count": null,
   "metadata": {},
   "outputs": [],
   "source": [
    "savepath = Path(savedir).joinpath(f'{plot_id}.svg').as_posix()\n",
    "sk.save(savepath)"
   ]
  },
  {
   "cell_type": "code",
   "execution_count": null,
   "metadata": {},
   "outputs": [],
   "source": []
  },
  {
   "cell_type": "code",
   "execution_count": null,
   "metadata": {},
   "outputs": [],
   "source": [
    "def vsketch_to_shapely(sketch):\n",
    "    return [[LineString([Point(pt.real, pt.imag) for pt in lc]) for lc in layer] for layer in sketch.document.layers.values()]"
   ]
  },
  {
   "cell_type": "code",
   "execution_count": null,
   "metadata": {},
   "outputs": [],
   "source": [
    "layer = sk.document.layers[1]"
   ]
  },
  {
   "cell_type": "code",
   "execution_count": null,
   "metadata": {},
   "outputs": [],
   "source": [
    "mls = gp.make_like(MultiLineString([LineString([Point(pt.real, pt.imag) for pt in lc]) for lc in layer]), drawbox)"
   ]
  },
  {
   "cell_type": "code",
   "execution_count": null,
   "metadata": {
    "tags": []
   },
   "outputs": [],
   "source": [
    "ds = [150 - ls.distance(drawbox.centroid) for ls in mls]"
   ]
  },
  {
   "cell_type": "code",
   "execution_count": null,
   "metadata": {},
   "outputs": [],
   "source": [
    "ds = np.array(ds) ** 0.5\n",
    "ds = ds/ ds.sum()"
   ]
  },
  {
   "cell_type": "code",
   "execution_count": null,
   "metadata": {},
   "outputs": [],
   "source": [
    "frac_keep = 0.85\n",
    "n_keep = int(frac_keep * len(mls))\n",
    "pmls = MultiLineString(list(np.random.choice(mls, size=n_keep, replace=False,\n",
    "#                                              p=ds\n",
    "                                            )))\n",
    "rlayers = [pmls]"
   ]
  },
  {
   "cell_type": "code",
   "execution_count": null,
   "metadata": {},
   "outputs": [],
   "source": [
    "sk = vsketch.Vsketch()\n",
    "sk.size(paper.page_format_mm)\n",
    "sk.scale('1mm')\n",
    "sk.penWidth('0.08mm')\n",
    "for i, layer in enumerate(rlayers):\n",
    "    sk.stroke(i+1)\n",
    "    sk.geometry(layer)\n",
    "\n",
    "for tolerance in [0.05, 0.1, 0.2,  0.3, 0.5, 0.7]:\n",
    "    sk.vpype(f'linemerge --tolerance {tolerance}mm')\n",
    "    sk.vpype('linesimplify --tolerance 0.1 linesort')\n",
    "\n",
    "sk.display(color_mode='layer')"
   ]
  },
  {
   "cell_type": "code",
   "execution_count": null,
   "metadata": {},
   "outputs": [],
   "source": []
  },
  {
   "cell_type": "code",
   "execution_count": null,
   "metadata": {
    "heading_collapsed": "false"
   },
   "outputs": [],
   "source": [
    "import fn"
   ]
  },
  {
   "cell_type": "code",
   "execution_count": null,
   "metadata": {},
   "outputs": [],
   "source": [
    "plot_id = fn.new_plot_id()"
   ]
  },
  {
   "cell_type": "code",
   "execution_count": null,
   "metadata": {},
   "outputs": [],
   "source": [
    "savedir='/home/naka/art/plotter_svgs'"
   ]
  },
  {
   "cell_type": "code",
   "execution_count": null,
   "metadata": {},
   "outputs": [],
   "source": [
    "savepath = Path(savedir).joinpath(f'{plot_id}.svg').as_posix()\n",
    "sk.save(savepath)"
   ]
  },
  {
   "cell_type": "code",
   "execution_count": null,
   "metadata": {},
   "outputs": [],
   "source": []
  }
 ],
 "metadata": {
  "kernelspec": {
   "display_name": "Python [conda env:genpen]",
   "language": "python",
   "name": "conda-env-genpen-py"
  },
  "language_info": {
   "codemirror_mode": {
    "name": "ipython",
    "version": 3
   },
   "file_extension": ".py",
   "mimetype": "text/x-python",
   "name": "python",
   "nbconvert_exporter": "python",
   "pygments_lexer": "ipython3",
   "version": "3.8.8"
  }
 },
 "nbformat": 4,
 "nbformat_minor": 4
}
