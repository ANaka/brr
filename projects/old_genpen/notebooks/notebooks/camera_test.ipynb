version https://git-lfs.github.com/spec/v1
oid sha256:20d92ec82fdaf79614da06e31ca79c2cb0d90e7533b3a0cff7ab4e51fde634d1
size 2486
