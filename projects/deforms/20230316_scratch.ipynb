version https://git-lfs.github.com/spec/v1
oid sha256:6a28dbed5b021230661254776ff95733fc4d93bfe111dd3fd979bcfdbfefe8a8
size 49781
