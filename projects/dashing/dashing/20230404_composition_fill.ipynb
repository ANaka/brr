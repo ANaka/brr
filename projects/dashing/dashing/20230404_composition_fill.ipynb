{
 "cells": [
  {
   "cell_type": "code",
   "execution_count": 1,
   "metadata": {},
   "outputs": [],
   "source": [
    "import itertools\n",
    "from functools import partial\n",
    "\n",
    "import geopandas as gpd\n",
    "import numpy as np\n",
    "import pandas as pd\n",
    "import vsketch\n",
    "from fn.fn import new_savepath\n",
    "from geodude.intersection import (\n",
    "    assign_psuedoperiodic_order_to_adjacent_clusters,\n",
    "    assign_random_order_to_adjacent_clusters,\n",
    "    chunked_pairwise_partition_polygons, find_adjacency_clusters,\n",
    "    find_contained_polys, find_intersecting_polys, find_parent_polygons,\n",
    "    find_touching_polys, merge_disjoint_polys, pairwise_partition_polygons)\n",
    "from geodude.line import bezier_func, dash_linestring\n",
    "from geodude.ops import buft_fill, make_like\n",
    "from geodude.parameter import Prm, prms\n",
    "from geodude.subdivide import (bino_draw, flex_rule_recursive_split,\n",
    "                               random_line_subdivide,\n",
    "                               split_along_longest_side_of_min_rectangle,\n",
    "                               split_poly)\n",
    "from geodude.utils import (Paper, flatten_geoms, merge_LineStrings,\n",
    "                           merge_Polygons)\n",
    "from matplotlib import pyplot as plt\n",
    "from shapely import is_valid, unary_union\n",
    "from shapely.geometry import (LineString, MultiLineString, MultiPoint,\n",
    "                              MultiPolygon, Point, Polygon, box)\n",
    "from shapely.ops import nearest_points\n",
    "\n",
    "%load_ext autoreload\n",
    "%autoreload 2"
   ]
  },
  {
   "cell_type": "code",
   "execution_count": null,
   "metadata": {},
   "outputs": [],
   "source": []
  }
 ],
 "metadata": {
  "kernelspec": {
   "display_name": "dashing-J-UKP8fp-py3.10",
   "language": "python",
   "name": "python3"
  },
  "language_info": {
   "codemirror_mode": {
    "name": "ipython",
    "version": 3
   },
   "file_extension": ".py",
   "mimetype": "text/x-python",
   "name": "python",
   "nbconvert_exporter": "python",
   "pygments_lexer": "ipython3",
   "version": "3.10.9"
  },
  "orig_nbformat": 4
 },
 "nbformat": 4,
 "nbformat_minor": 2
}
