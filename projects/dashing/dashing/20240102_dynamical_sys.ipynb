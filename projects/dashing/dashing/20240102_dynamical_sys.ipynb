version https://git-lfs.github.com/spec/v1
oid sha256:59bafad52f214f12b75fc61e647bcf5cdcda0b76f1e54df8b02d641b69cbed24
size 8579818
